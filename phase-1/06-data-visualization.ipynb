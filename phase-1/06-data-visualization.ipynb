{
 "cells": [
  {
   "cell_type": "markdown",
   "metadata": {},
   "source": [
    "# Topic 06: Data Visualization"
   ]
  },
  {
   "cell_type": "code",
   "execution_count": 3,
   "metadata": {},
   "outputs": [
    {
     "name": "stdout",
     "output_type": "stream",
     "text": [
      "Collecting jupyterthemes\n",
      "  Using cached jupyterthemes-0.20.0-py2.py3-none-any.whl (7.0 MB)\n",
      "Requirement already satisfied: jupyter-core in c:\\users\\nel-jiren\\anaconda\\envs\\learn-env\\lib\\site-packages (from jupyterthemes) (4.6.3)\n",
      "Requirement already satisfied: ipython>=5.4.1 in c:\\users\\nel-jiren\\anaconda\\envs\\learn-env\\lib\\site-packages (from jupyterthemes) (7.18.1)\n",
      "Requirement already satisfied: notebook>=5.6.0 in c:\\users\\nel-jiren\\anaconda\\envs\\learn-env\\lib\\site-packages (from jupyterthemes) (6.1.4)\n",
      "Requirement already satisfied: matplotlib>=1.4.3 in c:\\users\\nel-jiren\\anaconda\\envs\\learn-env\\lib\\site-packages (from jupyterthemes) (3.3.1)\n",
      "Collecting lesscpy>=0.11.2\n",
      "  Using cached lesscpy-0.14.0-py2.py3-none-any.whl (46 kB)\n",
      "Requirement already satisfied: traitlets in c:\\users\\nel-jiren\\anaconda\\envs\\learn-env\\lib\\site-packages (from jupyter-core->jupyterthemes) (5.0.5)\n",
      "Requirement already satisfied: pywin32>=1.0; sys_platform == \"win32\" in c:\\users\\nel-jiren\\anaconda\\envs\\learn-env\\lib\\site-packages (from jupyter-core->jupyterthemes) (227)\n",
      "Requirement already satisfied: colorama; sys_platform == \"win32\" in c:\\users\\nel-jiren\\anaconda\\envs\\learn-env\\lib\\site-packages (from ipython>=5.4.1->jupyterthemes) (0.4.3)\n",
      "Requirement already satisfied: jedi>=0.10 in c:\\users\\nel-jiren\\anaconda\\envs\\learn-env\\lib\\site-packages (from ipython>=5.4.1->jupyterthemes) (0.17.2)\n",
      "Requirement already satisfied: setuptools>=18.5 in c:\\users\\nel-jiren\\anaconda\\envs\\learn-env\\lib\\site-packages (from ipython>=5.4.1->jupyterthemes) (50.3.0.post20201103)\n",
      "Requirement already satisfied: backcall in c:\\users\\nel-jiren\\anaconda\\envs\\learn-env\\lib\\site-packages (from ipython>=5.4.1->jupyterthemes) (0.2.0)\n",
      "Requirement already satisfied: decorator in c:\\users\\nel-jiren\\anaconda\\envs\\learn-env\\lib\\site-packages (from ipython>=5.4.1->jupyterthemes) (4.4.2)\n",
      "Requirement already satisfied: prompt-toolkit!=3.0.0,!=3.0.1,<3.1.0,>=2.0.0 in c:\\users\\nel-jiren\\anaconda\\envs\\learn-env\\lib\\site-packages (from ipython>=5.4.1->jupyterthemes) (3.0.8)\n",
      "Requirement already satisfied: pygments in c:\\users\\nel-jiren\\anaconda\\envs\\learn-env\\lib\\site-packages (from ipython>=5.4.1->jupyterthemes) (2.7.1)\n",
      "Requirement already satisfied: pickleshare in c:\\users\\nel-jiren\\anaconda\\envs\\learn-env\\lib\\site-packages (from ipython>=5.4.1->jupyterthemes) (0.7.5)\n",
      "Requirement already satisfied: terminado>=0.8.3 in c:\\users\\nel-jiren\\anaconda\\envs\\learn-env\\lib\\site-packages (from notebook>=5.6.0->jupyterthemes) (0.9.1)\n",
      "Requirement already satisfied: nbconvert in c:\\users\\nel-jiren\\anaconda\\envs\\learn-env\\lib\\site-packages (from notebook>=5.6.0->jupyterthemes) (6.0.7)\n",
      "Requirement already satisfied: ipykernel in c:\\users\\nel-jiren\\anaconda\\envs\\learn-env\\lib\\site-packages (from notebook>=5.6.0->jupyterthemes) (5.3.4)\n",
      "Requirement already satisfied: tornado>=5.0 in c:\\users\\nel-jiren\\anaconda\\envs\\learn-env\\lib\\site-packages (from notebook>=5.6.0->jupyterthemes) (6.0.4)\n",
      "Requirement already satisfied: prometheus-client in c:\\users\\nel-jiren\\anaconda\\envs\\learn-env\\lib\\site-packages (from notebook>=5.6.0->jupyterthemes) (0.8.0)\n",
      "Requirement already satisfied: nbformat in c:\\users\\nel-jiren\\anaconda\\envs\\learn-env\\lib\\site-packages (from notebook>=5.6.0->jupyterthemes) (5.0.8)\n",
      "Requirement already satisfied: jinja2 in c:\\users\\nel-jiren\\anaconda\\envs\\learn-env\\lib\\site-packages (from notebook>=5.6.0->jupyterthemes) (2.11.2)\n",
      "Requirement already satisfied: argon2-cffi in c:\\users\\nel-jiren\\anaconda\\envs\\learn-env\\lib\\site-packages (from notebook>=5.6.0->jupyterthemes) (20.1.0)\n",
      "Requirement already satisfied: pyzmq>=17 in c:\\users\\nel-jiren\\anaconda\\envs\\learn-env\\lib\\site-packages (from notebook>=5.6.0->jupyterthemes) (19.0.2)\n",
      "Requirement already satisfied: Send2Trash in c:\\users\\nel-jiren\\anaconda\\envs\\learn-env\\lib\\site-packages (from notebook>=5.6.0->jupyterthemes) (1.5.0)\n",
      "Requirement already satisfied: jupyter-client>=5.3.4 in c:\\users\\nel-jiren\\anaconda\\envs\\learn-env\\lib\\site-packages (from notebook>=5.6.0->jupyterthemes) (6.1.7)\n",
      "Requirement already satisfied: ipython-genutils in c:\\users\\nel-jiren\\anaconda\\envs\\learn-env\\lib\\site-packages (from notebook>=5.6.0->jupyterthemes) (0.2.0)\n",
      "Requirement already satisfied: certifi>=2020.06.20 in c:\\users\\nel-jiren\\anaconda\\envs\\learn-env\\lib\\site-packages (from matplotlib>=1.4.3->jupyterthemes) (2020.6.20)\n",
      "Requirement already satisfied: numpy>=1.15 in c:\\users\\nel-jiren\\anaconda\\envs\\learn-env\\lib\\site-packages (from matplotlib>=1.4.3->jupyterthemes) (1.18.5)\n",
      "Requirement already satisfied: pyparsing!=2.0.4,!=2.1.2,!=2.1.6,>=2.0.3 in c:\\users\\nel-jiren\\anaconda\\envs\\learn-env\\lib\\site-packages (from matplotlib>=1.4.3->jupyterthemes) (2.4.7)\n",
      "Requirement already satisfied: python-dateutil>=2.1 in c:\\users\\nel-jiren\\anaconda\\envs\\learn-env\\lib\\site-packages (from matplotlib>=1.4.3->jupyterthemes) (2.8.1)\n",
      "Requirement already satisfied: cycler>=0.10 in c:\\users\\nel-jiren\\anaconda\\envs\\learn-env\\lib\\site-packages (from matplotlib>=1.4.3->jupyterthemes) (0.10.0)\n",
      "Requirement already satisfied: pillow>=6.2.0 in c:\\users\\nel-jiren\\anaconda\\envs\\learn-env\\lib\\site-packages (from matplotlib>=1.4.3->jupyterthemes) (8.0.0)\n",
      "Requirement already satisfied: kiwisolver>=1.0.1 in c:\\users\\nel-jiren\\anaconda\\envs\\learn-env\\lib\\site-packages (from matplotlib>=1.4.3->jupyterthemes) (1.2.0)\n",
      "Requirement already satisfied: six in c:\\users\\nel-jiren\\anaconda\\envs\\learn-env\\lib\\site-packages (from lesscpy>=0.11.2->jupyterthemes) (1.15.0)\n",
      "Collecting ply\n",
      "  Using cached ply-3.11-py2.py3-none-any.whl (49 kB)\n",
      "Requirement already satisfied: parso<0.8.0,>=0.7.0 in c:\\users\\nel-jiren\\anaconda\\envs\\learn-env\\lib\\site-packages (from jedi>=0.10->ipython>=5.4.1->jupyterthemes) (0.7.0)\n",
      "Requirement already satisfied: wcwidth in c:\\users\\nel-jiren\\anaconda\\envs\\learn-env\\lib\\site-packages (from prompt-toolkit!=3.0.0,!=3.0.1,<3.1.0,>=2.0.0->ipython>=5.4.1->jupyterthemes) (0.2.5)\n",
      "Requirement already satisfied: pywinpty>=0.5; os_name == \"nt\" in c:\\users\\nel-jiren\\anaconda\\envs\\learn-env\\lib\\site-packages (from terminado>=0.8.3->notebook>=5.6.0->jupyterthemes) (0.5.7)\n",
      "Requirement already satisfied: testpath in c:\\users\\nel-jiren\\anaconda\\envs\\learn-env\\lib\\site-packages (from nbconvert->notebook>=5.6.0->jupyterthemes) (0.4.4)\n",
      "Requirement already satisfied: nbclient<0.6.0,>=0.5.0 in c:\\users\\nel-jiren\\anaconda\\envs\\learn-env\\lib\\site-packages (from nbconvert->notebook>=5.6.0->jupyterthemes) (0.5.1)\n",
      "Requirement already satisfied: mistune<2,>=0.8.1 in c:\\users\\nel-jiren\\anaconda\\envs\\learn-env\\lib\\site-packages (from nbconvert->notebook>=5.6.0->jupyterthemes) (0.8.4)\n",
      "Requirement already satisfied: entrypoints>=0.2.2 in c:\\users\\nel-jiren\\anaconda\\envs\\learn-env\\lib\\site-packages (from nbconvert->notebook>=5.6.0->jupyterthemes) (0.3)\n",
      "Requirement already satisfied: bleach in c:\\users\\nel-jiren\\anaconda\\envs\\learn-env\\lib\\site-packages (from nbconvert->notebook>=5.6.0->jupyterthemes) (3.2.1)\n",
      "Requirement already satisfied: defusedxml in c:\\users\\nel-jiren\\anaconda\\envs\\learn-env\\lib\\site-packages (from nbconvert->notebook>=5.6.0->jupyterthemes) (0.6.0)\n",
      "Requirement already satisfied: pandocfilters>=1.4.1 in c:\\users\\nel-jiren\\anaconda\\envs\\learn-env\\lib\\site-packages (from nbconvert->notebook>=5.6.0->jupyterthemes) (1.4.2)\n",
      "Requirement already satisfied: jupyterlab-pygments in c:\\users\\nel-jiren\\anaconda\\envs\\learn-env\\lib\\site-packages (from nbconvert->notebook>=5.6.0->jupyterthemes) (0.1.2)\n",
      "Requirement already satisfied: jsonschema!=2.5.0,>=2.4 in c:\\users\\nel-jiren\\anaconda\\envs\\learn-env\\lib\\site-packages (from nbformat->notebook>=5.6.0->jupyterthemes) (3.2.0)\n",
      "Requirement already satisfied: MarkupSafe>=0.23 in c:\\users\\nel-jiren\\anaconda\\envs\\learn-env\\lib\\site-packages (from jinja2->notebook>=5.6.0->jupyterthemes) (1.1.1)\n",
      "Requirement already satisfied: cffi>=1.0.0 in c:\\users\\nel-jiren\\anaconda\\envs\\learn-env\\lib\\site-packages (from argon2-cffi->notebook>=5.6.0->jupyterthemes) (1.14.3)\n",
      "Requirement already satisfied: async-generator in c:\\users\\nel-jiren\\anaconda\\envs\\learn-env\\lib\\site-packages (from nbclient<0.6.0,>=0.5.0->nbconvert->notebook>=5.6.0->jupyterthemes) (1.10)\n",
      "Requirement already satisfied: nest-asyncio in c:\\users\\nel-jiren\\anaconda\\envs\\learn-env\\lib\\site-packages (from nbclient<0.6.0,>=0.5.0->nbconvert->notebook>=5.6.0->jupyterthemes) (1.4.1)\n",
      "Requirement already satisfied: packaging in c:\\users\\nel-jiren\\anaconda\\envs\\learn-env\\lib\\site-packages (from bleach->nbconvert->notebook>=5.6.0->jupyterthemes) (20.4)\n",
      "Requirement already satisfied: webencodings in c:\\users\\nel-jiren\\anaconda\\envs\\learn-env\\lib\\site-packages (from bleach->nbconvert->notebook>=5.6.0->jupyterthemes) (0.5.1)\n",
      "Requirement already satisfied: attrs>=17.4.0 in c:\\users\\nel-jiren\\anaconda\\envs\\learn-env\\lib\\site-packages (from jsonschema!=2.5.0,>=2.4->nbformat->notebook>=5.6.0->jupyterthemes) (20.2.0)\n",
      "Requirement already satisfied: pyrsistent>=0.14.0 in c:\\users\\nel-jiren\\anaconda\\envs\\learn-env\\lib\\site-packages (from jsonschema!=2.5.0,>=2.4->nbformat->notebook>=5.6.0->jupyterthemes) (0.17.3)\n",
      "Requirement already satisfied: pycparser in c:\\users\\nel-jiren\\anaconda\\envs\\learn-env\\lib\\site-packages (from cffi>=1.0.0->argon2-cffi->notebook>=5.6.0->jupyterthemes) (2.20)\n",
      "Installing collected packages: ply, lesscpy, jupyterthemes\n",
      "Successfully installed jupyterthemes-0.20.0 lesscpy-0.14.0 ply-3.11\n"
     ]
    }
   ],
   "source": [
    "!pip install jupyterthemes"
   ]
  },
  {
   "cell_type": "code",
   "execution_count": 4,
   "metadata": {
    "scrolled": true
   },
   "outputs": [
    {
     "name": "stdout",
     "output_type": "stream",
     "text": [
      "Available Themes: \n",
      "   chesterish\n",
      "   grade3\n",
      "   gruvboxd\n",
      "   gruvboxl\n",
      "   monokai\n",
      "   oceans16\n",
      "   onedork\n",
      "   solarizedd\n",
      "   solarizedl\n"
     ]
    }
   ],
   "source": [
    "!jt -l"
   ]
  },
  {
   "cell_type": "code",
   "execution_count": 5,
   "metadata": {},
   "outputs": [],
   "source": [
    "!jt -t chesterish"
   ]
  },
  {
   "cell_type": "code",
   "execution_count": 6,
   "metadata": {},
   "outputs": [
    {
     "name": "stdout",
     "output_type": "stream",
     "text": [
      "Reset css and font defaults in:\n",
      "C:\\Users\\Nel-Jiren\\.jupyter\\custom &\n",
      "C:\\Users\\Nel-Jiren\\AppData\\Roaming\\jupyter\\nbextensions\n"
     ]
    }
   ],
   "source": [
    "!jt -r"
   ]
  },
  {
   "cell_type": "markdown",
   "metadata": {},
   "source": [
    "## Why do we make visualizations?\n",
    "\n",
    "- Can we really tell/discern patterns just by looking at DataFrames?\n",
    "- https://www.autodeskresearch.com/publications/samestats\n",
    "\n",
    "## How Data Scientists use visualizations\n",
    "\n",
    "### 1. Exploratory Data Analysis (EDA)\n",
    "- To EXPLORE the data that we have, to find out more about what we're working with\n",
    "- We're trying to look for patterns and relationships\n",
    "\n",
    "### 2. Explanatory Data Visualizations\n",
    "- For stakeholders! \n",
    "- Convey our narratives/takeaways/insights"
   ]
  },
  {
   "cell_type": "code",
   "execution_count": null,
   "metadata": {},
   "outputs": [],
   "source": [
    "# what do we import?\n",
    "import matplotlib.pyplot as plt\n",
    "%matplotlib inline \n",
    "# ^^^ this is specifically for ipynb\n",
    "\n",
    "import numpy as np\n",
    "import pandas as pd"
   ]
  },
  {
   "cell_type": "code",
   "execution_count": null,
   "metadata": {},
   "outputs": [],
   "source": [
    "car_df = pd.read_csv('auto-mpg.csv')"
   ]
  },
  {
   "cell_type": "code",
   "execution_count": null,
   "metadata": {},
   "outputs": [],
   "source": [
    "car_df.head()"
   ]
  },
  {
   "cell_type": "markdown",
   "metadata": {},
   "source": [
    "## Documentation:\n",
    "\n",
    "- https://matplotlib.org/3.1.1/api/_as_gen/matplotlib.pyplot.html\n",
    "\n",
    "\n",
    "### Most common visualizations:\n",
    "\n",
    "\n",
    "    .plot()           Line plot\n",
    "    .scatter()        Scatter plot\n",
    "    .bar()\t        Vertical bar graph\n",
    "    .barh()\t       Horizontal bar graph\n",
    "    .axhline()\t    Horizontal line across axes\n",
    "    .vline()\t      Vertical line across axes\n",
    "    .stackplot()\t  Stack plot\n"
   ]
  },
  {
   "cell_type": "code",
   "execution_count": null,
   "metadata": {},
   "outputs": [],
   "source": [
    "plt.scatter(car_df['displacement'], car_df['horsepower'], label='car')\n",
    "# plt.title(\"Relationship between Displacement and Horsepower\")\n",
    "# plt.xlabel(\"Displacement\")\n",
    "# plt.ylabel(\"Horsepower\")\n",
    "# plt.legend()\n",
    "# plt.show()"
   ]
  },
  {
   "cell_type": "markdown",
   "metadata": {},
   "source": [
    "## Figure vs Axes vs Subplot\n",
    "- Figure refers to the overall image space\n",
    "- Axes define where data is plotted\n",
    "- A subplot is an axes"
   ]
  },
  {
   "cell_type": "code",
   "execution_count": null,
   "metadata": {},
   "outputs": [],
   "source": [
    "fig, axes = plt.subplots(1, 2, sharey=True)\n",
    "fig.suptitle(\"Some Histograms\")\n",
    "\n",
    "axes[0].hist(car_df['weight'])\n",
    "axes[0].set(xlabel=\"Weight\", ylabel=\"Frequency\")\n",
    "\n",
    "axes[1].hist(car_df['model year'])\n",
    "axes[1].set(xlabel=\"Year\", ylabel=\"Frequency\")\n",
    "\n",
    "plt.show()"
   ]
  },
  {
   "cell_type": "markdown",
   "metadata": {},
   "source": [
    "# Seaborn"
   ]
  },
  {
   "cell_type": "code",
   "execution_count": null,
   "metadata": {},
   "outputs": [],
   "source": [
    "import seaborn as sns"
   ]
  },
  {
   "cell_type": "code",
   "execution_count": null,
   "metadata": {},
   "outputs": [],
   "source": [
    "data = np.random.normal(size=(20, 10)) + np.arange(10) / 2"
   ]
  },
  {
   "cell_type": "code",
   "execution_count": null,
   "metadata": {},
   "outputs": [],
   "source": [
    "data.shape"
   ]
  },
  {
   "cell_type": "code",
   "execution_count": null,
   "metadata": {},
   "outputs": [],
   "source": [
    "boxplot = sns.boxplot(data=data)"
   ]
  },
  {
   "cell_type": "code",
   "execution_count": null,
   "metadata": {},
   "outputs": [],
   "source": [
    "boxplot.set(xlabel='xlabel', ylabel='ylabel', title='Boxplot')"
   ]
  },
  {
   "cell_type": "markdown",
   "metadata": {},
   "source": [
    "# Plotly"
   ]
  },
  {
   "cell_type": "code",
   "execution_count": null,
   "metadata": {},
   "outputs": [],
   "source": [
    "import plotly.express as px"
   ]
  },
  {
   "cell_type": "code",
   "execution_count": null,
   "metadata": {},
   "outputs": [],
   "source": [
    "car_df"
   ]
  },
  {
   "cell_type": "markdown",
   "metadata": {},
   "source": [
    "https://plotly.com/python-api-reference/generated/plotly.express.scatter"
   ]
  },
  {
   "cell_type": "code",
   "execution_count": null,
   "metadata": {},
   "outputs": [],
   "source": [
    "px.scatter(car_df, x='displacement', y='mpg', \n",
    "           title='Relationship between Displacement and MPG',\n",
    "          hover_data= ['car name', 'model year'], \n",
    "          trendline='ols')"
   ]
  }
 ],
 "metadata": {
  "kernelspec": {
   "display_name": "Python 3",
   "language": "python",
   "name": "python3"
  },
  "language_info": {
   "codemirror_mode": {
    "name": "ipython",
    "version": 3
   },
   "file_extension": ".py",
   "mimetype": "text/x-python",
   "name": "python",
   "nbconvert_exporter": "python",
   "pygments_lexer": "ipython3",
   "version": "3.8.5"
  },
  "toc": {
   "base_numbering": 1,
   "nav_menu": {},
   "number_sections": false,
   "sideBar": true,
   "skip_h1_title": false,
   "title_cell": "Table of Contents",
   "title_sidebar": "Contents",
   "toc_cell": false,
   "toc_position": {},
   "toc_section_display": true,
   "toc_window_display": false
  }
 },
 "nbformat": 4,
 "nbformat_minor": 4
}
